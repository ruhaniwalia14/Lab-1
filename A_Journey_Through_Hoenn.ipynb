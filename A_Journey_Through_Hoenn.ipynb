{
  "nbformat": 4,
  "nbformat_minor": 0,
  "metadata": {
    "colab": {
      "provenance": [],
      "include_colab_link": true
    },
    "kernelspec": {
      "name": "python3",
      "display_name": "Python 3"
    },
    "language_info": {
      "name": "python"
    }
  },
  "cells": [
    {
      "cell_type": "markdown",
      "metadata": {
        "id": "view-in-github",
        "colab_type": "text"
      },
      "source": [
        "<a href=\"https://colab.research.google.com/github/ruhaniwalia14/Lab-1/blob/main/A_Journey_Through_Hoenn.ipynb\" target=\"_parent\"><img src=\"https://colab.research.google.com/assets/colab-badge.svg\" alt=\"Open In Colab\"/></a>"
      ]
    },
    {
      "cell_type": "markdown",
      "source": [
        "# Before you do anything...\n",
        "1. Make a copy of this notebook so that any progress is saved to your copy. If you\n",
        "don't make a copy, your changes will be gone the next time you try to access this notebook.\n",
        "2. Run the next cell to set up helper functions and examples. If you see strange errors of things not being defined, come back and run the set up cell again."
      ],
      "metadata": {
        "id": "LwVfOKTnBDHB"
      }
    },
    {
      "cell_type": "code",
      "execution_count": null,
      "metadata": {
        "id": "7_dD_7OcAtTf",
        "colab": {
          "base_uri": "https://localhost:8080/"
        },
        "cellView": "form",
        "outputId": "f953817c-6bea-40ab-aa60-8cc669bcfb88"
      },
      "outputs": [
        {
          "output_type": "stream",
          "name": "stdout",
          "text": [
            "--2023-05-10 19:32:21--  https://archives.bulbagarden.net/media/upload/1/1f/Hoenn_RSE_Map.png\n",
            "Resolving archives.bulbagarden.net (archives.bulbagarden.net)... 172.64.106.20, 172.64.107.20, 2606:4700:e0::ac40:6b14, ...\n",
            "Connecting to archives.bulbagarden.net (archives.bulbagarden.net)|172.64.106.20|:443... connected.\n",
            "HTTP request sent, awaiting response... 200 OK\n",
            "Length: 8409 (8.2K) [image/png]\n",
            "Saving to: ‘Hoenn_RSE_Map.png.1’\n",
            "\n",
            "\rHoenn_RSE_Map.png.1   0%[                    ]       0  --.-KB/s               \rHoenn_RSE_Map.png.1 100%[===================>]   8.21K  --.-KB/s    in 0s      \n",
            "\n",
            "2023-05-10 19:32:21 (67.8 MB/s) - ‘Hoenn_RSE_Map.png.1’ saved [8409/8409]\n",
            "\n"
          ]
        }
      ],
      "source": [
        "#@title Run this cell (press the play button) to set up some helper functions\n",
        "import itertools\n",
        "import plotly.express as px\n",
        "import plotly.graph_objects as go\n",
        "\n",
        "import numpy as np\n",
        "from PIL import Image\n",
        "import networkx as nx\n",
        "\n",
        "LOCATIONS = {\n",
        "    \"Littleroot\":(44,107)\n",
        "    ,\"Oldale\":(44, 91)\n",
        "    ,\"Petalburg\":(19, 91)\n",
        "    , \"Rustboro\": (12, 62)\n",
        "    , \"Verdanturf\": (44, 67)\n",
        "    , \"Mauville\": (80, 66)\n",
        "    , \"Slateport\": (75, 103)\n",
        "    , \"Lavaridge\": (52, 43)\n",
        "    , \"Fallarbor\": (35, 19)\n",
        "    , \"Fortree\": (108, 19)\n",
        "    , \"Lilycove\": (163,43)\n",
        "    , \"Mossdeep\": (208, 59)\n",
        "    , \"Sootopolis\": (180, 75)\n",
        "    , \"EverGrande\": (228, 87)\n",
        "    , \"Dewford\": (27, 131)\n",
        "    , \"Pacificdog\": (148, 99)\n",
        "}\n",
        "\n",
        "CITIES = list(LOCATIONS.keys())\n",
        "XS, YS = list(zip(*list(LOCATIONS.values())))\n",
        "\n",
        "\n",
        "! wget https://archives.bulbagarden.net/media/upload/1/1f/Hoenn_RSE_Map.png\n",
        "\n",
        "HOENN_ARRAY = np.asarray(Image.open(\"Hoenn_RSE_Map.png\"))\n",
        "HOENN_ARRAY_TRANSLUCENT = HOENN_ARRAY.copy()\n",
        "HOENN_ARRAY_TRANSLUCENT[:,:,3] = 125\n",
        "\n",
        "def hoenn_map(translucent=True):\n",
        "  arr = HOENN_ARRAY_TRANSLUCENT if translucent else HOENN_ARRAY\n",
        "  fig = px.imshow(arr)\n",
        "  fig.add_trace(\n",
        "    go.Scatter(x=XS, y=YS, mode=\"markers\", marker={\"size\":12, \"color\":\"black\"}, hovertext=CITIES, name=\"\")\n",
        "  )\n",
        "  fig.update_layout(showlegend=False)\n",
        "  return fig\n",
        "\n",
        "def add_edge(fig, x1, y1, x2, y2, w):\n",
        "  fig.add_trace(\n",
        "    go.Scatter(x=[x1, x2], y=[y1,y2], mode=\"lines\", line={\"width\":1, \"color\":\"black\"})\n",
        "  )\n",
        "  fig.add_annotation(x=(x1 + x2)/2, y=(y1 + y2)/2,\n",
        "            text=str(w),\n",
        "            showarrow=False,\n",
        "            xshift=16,\n",
        "            yshift=16,\n",
        "            font={\"color\":\"black\", \"size\":16}\n",
        "  )\n",
        "  fig.update_layout(showlegend=False)\n",
        "  return fig\n",
        "\n",
        "def add_edge_manhattan(fig, x1, y1, x2, y2, w):\n",
        "  fig.add_trace(\n",
        "  go.Scatter(x=[x1, x2, x2], y=[y1, y1, y2], mode=\"lines\", line={\"width\":1, \"color\":\"black\"})\n",
        "  )\n",
        "  fig.add_annotation(x=x1, y=y1,\n",
        "            text=str(w),\n",
        "            showarrow=False,\n",
        "            xshift=16 if x2 > x1 else -16,\n",
        "            yshift=16 if y2 < y1 else -16,\n",
        "            font={\"color\":\"black\", \"size\":16}\n",
        "  )\n",
        "  fig.update_layout(showlegend=False)\n",
        "  return fig\n",
        "\n",
        "def plot_graph(g, manhattan=False):\n",
        "  fig = hoenn_map()\n",
        "  for u, v in g.edges():\n",
        "    x1, y1 = LOCATIONS[u]\n",
        "    x2, y2 = LOCATIONS[v]\n",
        "    if manhattan:\n",
        "      add_edge_manhattan(fig, x1, y1, x2, y2, g.edges[(u, v)]['weight'])\n",
        "    else:\n",
        "      add_edge(fig, x1, y1, x2, y2, g.edges[(u, v)]['weight'])\n",
        "  fig.show()"
      ]
    },
    {
      "cell_type": "markdown",
      "source": [
        "# Getting Started\n",
        "* `LOCATIONS` is a dictionary mapping cities to their $(x, y)$-coordinate\n",
        "* `CITIES` is a list of cities in the Hoenn Region\n",
        "\n",
        "Run the next cell to see what they look like"
      ],
      "metadata": {
        "id": "vAhEIBDltjPw"
      }
    },
    {
      "cell_type": "code",
      "source": [
        "display(LOCATIONS)\n",
        "print()\n",
        "display(CITIES)"
      ],
      "metadata": {
        "colab": {
          "base_uri": "https://localhost:8080/",
          "height": 611
        },
        "id": "uiTrHYB6BgQv",
        "outputId": "51ecb19c-070b-4cbf-930f-9f194725bc33"
      },
      "execution_count": null,
      "outputs": [
        {
          "output_type": "display_data",
          "data": {
            "text/plain": [
              "{'Littleroot': (44, 107),\n",
              " 'Oldale': (44, 91),\n",
              " 'Petalburg': (19, 91),\n",
              " 'Rustboro': (12, 62),\n",
              " 'Verdanturf': (44, 67),\n",
              " 'Mauville': (80, 66),\n",
              " 'Slateport': (75, 103),\n",
              " 'Lavaridge': (52, 43),\n",
              " 'Fallarbor': (35, 19),\n",
              " 'Fortree': (108, 19),\n",
              " 'Lilycove': (163, 43),\n",
              " 'Mossdeep': (208, 59),\n",
              " 'Sootopolis': (180, 75),\n",
              " 'EverGrande': (228, 87),\n",
              " 'Dewford': (27, 131),\n",
              " 'Pacificdog': (148, 99)}"
            ]
          },
          "metadata": {}
        },
        {
          "output_type": "stream",
          "name": "stdout",
          "text": [
            "\n"
          ]
        },
        {
          "output_type": "display_data",
          "data": {
            "text/plain": [
              "['Littleroot',\n",
              " 'Oldale',\n",
              " 'Petalburg',\n",
              " 'Rustboro',\n",
              " 'Verdanturf',\n",
              " 'Mauville',\n",
              " 'Slateport',\n",
              " 'Lavaridge',\n",
              " 'Fallarbor',\n",
              " 'Fortree',\n",
              " 'Lilycove',\n",
              " 'Mossdeep',\n",
              " 'Sootopolis',\n",
              " 'EverGrande',\n",
              " 'Dewford',\n",
              " 'Pacificdog']"
            ]
          },
          "metadata": {}
        }
      ]
    },
    {
      "cell_type": "markdown",
      "source": [
        "Here's how to create a networkx Graph and add a weighted edge. See [here](https://networkx.org/documentation/stable/reference/classes/graph.html#methods) for documentation on the Graph class."
      ],
      "metadata": {
        "id": "snXNURtdu5p7"
      }
    },
    {
      "cell_type": "code",
      "source": [
        "G = nx.Graph()\n",
        "G.add_nodes_from(CITIES)\n",
        "G.add_edge(\"Littleroot\", \"Lilycove\", weight=123)\n",
        "print(G)"
      ],
      "metadata": {
        "colab": {
          "base_uri": "https://localhost:8080/"
        },
        "id": "-8jQuwJauei8",
        "outputId": "4b10d609-deb1-4458-f71f-fb4242e08d13"
      },
      "execution_count": null,
      "outputs": [
        {
          "output_type": "stream",
          "name": "stdout",
          "text": [
            "Graph with 16 nodes and 1 edges\n"
          ]
        }
      ]
    },
    {
      "cell_type": "markdown",
      "source": [
        "I have provided a function called `plot_graph` which accepts a networkx graph with nodes corresponding to the elements of CITIES and weighted edges.\n",
        "\n",
        "It takes an optional argument `manhattan` (default False). Toggle it to see what it does.\n"
      ],
      "metadata": {
        "id": "HHpw_GIlvVrm"
      }
    },
    {
      "cell_type": "code",
      "source": [
        "plot_graph(G, manhattan=True)"
      ],
      "metadata": {
        "colab": {
          "base_uri": "https://localhost:8080/",
          "height": 542
        },
        "id": "-J35RyL6ugMd",
        "outputId": "2a9a6cb3-100a-48a7-bc9c-937240c00d8c"
      },
      "execution_count": null,
      "outputs": [
        {
          "output_type": "display_data",
          "data": {
            "text/html": [
              "<html>\n",
              "<head><meta charset=\"utf-8\" /></head>\n",
              "<body>\n",
              "    <div>            <script src=\"https://cdnjs.cloudflare.com/ajax/libs/mathjax/2.7.5/MathJax.js?config=TeX-AMS-MML_SVG\"></script><script type=\"text/javascript\">if (window.MathJax && window.MathJax.Hub && window.MathJax.Hub.Config) {window.MathJax.Hub.Config({SVG: {font: \"STIX-Web\"}});}</script>                <script type=\"text/javascript\">window.PlotlyConfig = {MathJaxConfig: 'local'};</script>\n",
              "        <script src=\"https://cdn.plot.ly/plotly-2.18.2.min.js\"></script>                <div id=\"4c89293c-e81f-477e-9378-5767ed27e1fc\" class=\"plotly-graph-div\" style=\"height:525px; width:100%;\"></div>            <script type=\"text/javascript\">                                    window.PLOTLYENV=window.PLOTLYENV || {};                                    if (document.getElementById(\"4c89293c-e81f-477e-9378-5767ed27e1fc\")) {                    Plotly.newPlot(                        \"4c89293c-e81f-477e-9378-5767ed27e1fc\",                        [{\"name\":\"0\",\"source\":\"data:image/png;base64,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\",\"type\":\"image\",\"xaxis\":\"x\",\"yaxis\":\"y\",\"hovertemplate\":\"x: %{x}<br>y: %{y}<br>color: %{z}<extra></extra>\"},{\"hovertext\":[\"Littleroot\",\"Oldale\",\"Petalburg\",\"Rustboro\",\"Verdanturf\",\"Mauville\",\"Slateport\",\"Lavaridge\",\"Fallarbor\",\"Fortree\",\"Lilycove\",\"Mossdeep\",\"Sootopolis\",\"EverGrande\",\"Dewford\",\"Pacificdog\"],\"marker\":{\"color\":\"black\",\"size\":12},\"mode\":\"markers\",\"name\":\"\",\"x\":[44,44,19,12,44,80,75,52,35,108,163,208,180,228,27,148],\"y\":[107,91,91,62,67,66,103,43,19,19,43,59,75,87,131,99],\"type\":\"scatter\"},{\"line\":{\"color\":\"black\",\"width\":1},\"mode\":\"lines\",\"x\":[44,163,163],\"y\":[107,107,43],\"type\":\"scatter\"}],                        {\"template\":{\"data\":{\"histogram2dcontour\":[{\"type\":\"histogram2dcontour\",\"colorbar\":{\"outlinewidth\":0,\"ticks\":\"\"},\"colorscale\":[[0.0,\"#0d0887\"],[0.1111111111111111,\"#46039f\"],[0.2222222222222222,\"#7201a8\"],[0.3333333333333333,\"#9c179e\"],[0.4444444444444444,\"#bd3786\"],[0.5555555555555556,\"#d8576b\"],[0.6666666666666666,\"#ed7953\"],[0.7777777777777778,\"#fb9f3a\"],[0.8888888888888888,\"#fdca26\"],[1.0,\"#f0f921\"]]}],\"choropleth\":[{\"type\":\"choropleth\",\"colorbar\":{\"outlinewidth\":0,\"ticks\":\"\"}}],\"histogram2d\":[{\"type\":\"histogram2d\",\"colorbar\":{\"outlinewidth\":0,\"ticks\":\"\"},\"colorscale\":[[0.0,\"#0d0887\"],[0.1111111111111111,\"#46039f\"],[0.2222222222222222,\"#7201a8\"],[0.3333333333333333,\"#9c179e\"],[0.4444444444444444,\"#bd3786\"],[0.5555555555555556,\"#d8576b\"],[0.6666666666666666,\"#ed7953\"],[0.7777777777777778,\"#fb9f3a\"],[0.8888888888888888,\"#fdca26\"],[1.0,\"#f0f921\"]]}],\"heatmap\":[{\"type\":\"heatmap\",\"colorbar\":{\"outlinewidth\":0,\"ticks\":\"\"},\"colorscale\":[[0.0,\"#0d0887\"],[0.1111111111111111,\"#46039f\"],[0.2222222222222222,\"#7201a8\"],[0.3333333333333333,\"#9c179e\"],[0.4444444444444444,\"#bd3786\"],[0.5555555555555556,\"#d8576b\"],[0.6666666666666666,\"#ed7953\"],[0.7777777777777778,\"#fb9f3a\"],[0.8888888888888888,\"#fdca26\"],[1.0,\"#f0f921\"]]}],\"heatmapgl\":[{\"type\":\"heatmapgl\",\"colorbar\":{\"outlinewidth\":0,\"ticks\":\"\"},\"colorscale\":[[0.0,\"#0d0887\"],[0.1111111111111111,\"#46039f\"],[0.2222222222222222,\"#7201a8\"],[0.3333333333333333,\"#9c179e\"],[0.4444444444444444,\"#bd3786\"],[0.5555555555555556,\"#d8576b\"],[0.6666666666666666,\"#ed7953\"],[0.7777777777777778,\"#fb9f3a\"],[0.8888888888888888,\"#fdca26\"],[1.0,\"#f0f921\"]]}],\"contourcarpet\":[{\"type\":\"contourcarpet\",\"colorbar\":{\"outlinewidth\":0,\"ticks\":\"\"}}],\"contour\":[{\"type\":\"contour\",\"colorbar\":{\"outlinewidth\":0,\"ticks\":\"\"},\"colorscale\":[[0.0,\"#0d0887\"],[0.1111111111111111,\"#46039f\"],[0.2222222222222222,\"#7201a8\"],[0.3333333333333333,\"#9c179e\"],[0.4444444444444444,\"#bd3786\"],[0.5555555555555556,\"#d8576b\"],[0.6666666666666666,\"#ed7953\"],[0.7777777777777778,\"#fb9f3a\"],[0.8888888888888888,\"#fdca26\"],[1.0,\"#f0f921\"]]}],\"surface\":[{\"type\":\"surface\",\"colorbar\":{\"outlinewidth\":0,\"ticks\":\"\"},\"colorscale\":[[0.0,\"#0d0887\"],[0.1111111111111111,\"#46039f\"],[0.2222222222222222,\"#7201a8\"],[0.3333333333333333,\"#9c179e\"],[0.4444444444444444,\"#bd3786\"],[0.5555555555555556,\"#d8576b\"],[0.6666666666666666,\"#ed7953\"],[0.7777777777777778,\"#fb9f3a\"],[0.8888888888888888,\"#fdca26\"],[1.0,\"#f0f921\"]]}],\"mesh3d\":[{\"type\":\"mesh3d\",\"colorbar\":{\"outlinewidth\":0,\"ticks\":\"\"}}],\"scatter\":[{\"fillpattern\":{\"fillmode\":\"overlay\",\"size\":10,\"solidity\":0.2},\"type\":\"scatter\"}],\"parcoords\":[{\"type\":\"parcoords\",\"line\":{\"colorbar\":{\"outlinewidth\":0,\"ticks\":\"\"}}}],\"scatterpolargl\":[{\"type\":\"scatterpolargl\",\"marker\":{\"colorbar\":{\"outlinewidth\":0,\"ticks\":\"\"}}}],\"bar\":[{\"error_x\":{\"color\":\"#2a3f5f\"},\"error_y\":{\"color\":\"#2a3f5f\"},\"marker\":{\"line\":{\"color\":\"#E5ECF6\",\"width\":0.5},\"pattern\":{\"fillmode\":\"overlay\",\"size\":10,\"solidity\":0.2}},\"type\":\"bar\"}],\"scattergeo\":[{\"type\":\"scattergeo\",\"marker\":{\"colorbar\":{\"outlinewidth\":0,\"ticks\":\"\"}}}],\"scatterpolar\":[{\"type\":\"scatterpolar\",\"marker\":{\"colorbar\":{\"outlinewidth\":0,\"ticks\":\"\"}}}],\"histogram\":[{\"marker\":{\"pattern\":{\"fillmode\":\"overlay\",\"size\":10,\"solidity\":0.2}},\"type\":\"histogram\"}],\"scattergl\":[{\"type\":\"scattergl\",\"marker\":{\"colorbar\":{\"outlinewidth\":0,\"ticks\":\"\"}}}],\"scatter3d\":[{\"type\":\"scatter3d\",\"line\":{\"colorbar\":{\"outlinewidth\":0,\"ticks\":\"\"}},\"marker\":{\"colorbar\":{\"outlinewidth\":0,\"ticks\":\"\"}}}],\"scattermapbox\":[{\"type\":\"scattermapbox\",\"marker\":{\"colorbar\":{\"outlinewidth\":0,\"ticks\":\"\"}}}],\"scatterternary\":[{\"type\":\"scatterternary\",\"marker\":{\"colorbar\":{\"outlinewidth\":0,\"ticks\":\"\"}}}],\"scattercarpet\":[{\"type\":\"scattercarpet\",\"marker\":{\"colorbar\":{\"outlinewidth\":0,\"ticks\":\"\"}}}],\"carpet\":[{\"aaxis\":{\"endlinecolor\":\"#2a3f5f\",\"gridcolor\":\"white\",\"linecolor\":\"white\",\"minorgridcolor\":\"white\",\"startlinecolor\":\"#2a3f5f\"},\"baxis\":{\"endlinecolor\":\"#2a3f5f\",\"gridcolor\":\"white\",\"linecolor\":\"white\",\"minorgridcolor\":\"white\",\"startlinecolor\":\"#2a3f5f\"},\"type\":\"carpet\"}],\"table\":[{\"cells\":{\"fill\":{\"color\":\"#EBF0F8\"},\"line\":{\"color\":\"white\"}},\"header\":{\"fill\":{\"color\":\"#C8D4E3\"},\"line\":{\"color\":\"white\"}},\"type\":\"table\"}],\"barpolar\":[{\"marker\":{\"line\":{\"color\":\"#E5ECF6\",\"width\":0.5},\"pattern\":{\"fillmode\":\"overlay\",\"size\":10,\"solidity\":0.2}},\"type\":\"barpolar\"}],\"pie\":[{\"automargin\":true,\"type\":\"pie\"}]},\"layout\":{\"autotypenumbers\":\"strict\",\"colorway\":[\"#636efa\",\"#EF553B\",\"#00cc96\",\"#ab63fa\",\"#FFA15A\",\"#19d3f3\",\"#FF6692\",\"#B6E880\",\"#FF97FF\",\"#FECB52\"],\"font\":{\"color\":\"#2a3f5f\"},\"hovermode\":\"closest\",\"hoverlabel\":{\"align\":\"left\"},\"paper_bgcolor\":\"white\",\"plot_bgcolor\":\"#E5ECF6\",\"polar\":{\"bgcolor\":\"#E5ECF6\",\"angularaxis\":{\"gridcolor\":\"white\",\"linecolor\":\"white\",\"ticks\":\"\"},\"radialaxis\":{\"gridcolor\":\"white\",\"linecolor\":\"white\",\"ticks\":\"\"}},\"ternary\":{\"bgcolor\":\"#E5ECF6\",\"aaxis\":{\"gridcolor\":\"white\",\"linecolor\":\"white\",\"ticks\":\"\"},\"baxis\":{\"gridcolor\":\"white\",\"linecolor\":\"white\",\"ticks\":\"\"},\"caxis\":{\"gridcolor\":\"white\",\"linecolor\":\"white\",\"ticks\":\"\"}},\"coloraxis\":{\"colorbar\":{\"outlinewidth\":0,\"ticks\":\"\"}},\"colorscale\":{\"sequential\":[[0.0,\"#0d0887\"],[0.1111111111111111,\"#46039f\"],[0.2222222222222222,\"#7201a8\"],[0.3333333333333333,\"#9c179e\"],[0.4444444444444444,\"#bd3786\"],[0.5555555555555556,\"#d8576b\"],[0.6666666666666666,\"#ed7953\"],[0.7777777777777778,\"#fb9f3a\"],[0.8888888888888888,\"#fdca26\"],[1.0,\"#f0f921\"]],\"sequentialminus\":[[0.0,\"#0d0887\"],[0.1111111111111111,\"#46039f\"],[0.2222222222222222,\"#7201a8\"],[0.3333333333333333,\"#9c179e\"],[0.4444444444444444,\"#bd3786\"],[0.5555555555555556,\"#d8576b\"],[0.6666666666666666,\"#ed7953\"],[0.7777777777777778,\"#fb9f3a\"],[0.8888888888888888,\"#fdca26\"],[1.0,\"#f0f921\"]],\"diverging\":[[0,\"#8e0152\"],[0.1,\"#c51b7d\"],[0.2,\"#de77ae\"],[0.3,\"#f1b6da\"],[0.4,\"#fde0ef\"],[0.5,\"#f7f7f7\"],[0.6,\"#e6f5d0\"],[0.7,\"#b8e186\"],[0.8,\"#7fbc41\"],[0.9,\"#4d9221\"],[1,\"#276419\"]]},\"xaxis\":{\"gridcolor\":\"white\",\"linecolor\":\"white\",\"ticks\":\"\",\"title\":{\"standoff\":15},\"zerolinecolor\":\"white\",\"automargin\":true,\"zerolinewidth\":2},\"yaxis\":{\"gridcolor\":\"white\",\"linecolor\":\"white\",\"ticks\":\"\",\"title\":{\"standoff\":15},\"zerolinecolor\":\"white\",\"automargin\":true,\"zerolinewidth\":2},\"scene\":{\"xaxis\":{\"backgroundcolor\":\"#E5ECF6\",\"gridcolor\":\"white\",\"linecolor\":\"white\",\"showbackground\":true,\"ticks\":\"\",\"zerolinecolor\":\"white\",\"gridwidth\":2},\"yaxis\":{\"backgroundcolor\":\"#E5ECF6\",\"gridcolor\":\"white\",\"linecolor\":\"white\",\"showbackground\":true,\"ticks\":\"\",\"zerolinecolor\":\"white\",\"gridwidth\":2},\"zaxis\":{\"backgroundcolor\":\"#E5ECF6\",\"gridcolor\":\"white\",\"linecolor\":\"white\",\"showbackground\":true,\"ticks\":\"\",\"zerolinecolor\":\"white\",\"gridwidth\":2}},\"shapedefaults\":{\"line\":{\"color\":\"#2a3f5f\"}},\"annotationdefaults\":{\"arrowcolor\":\"#2a3f5f\",\"arrowhead\":0,\"arrowwidth\":1},\"geo\":{\"bgcolor\":\"white\",\"landcolor\":\"#E5ECF6\",\"subunitcolor\":\"white\",\"showland\":true,\"showlakes\":true,\"lakecolor\":\"white\"},\"title\":{\"x\":0.05},\"mapbox\":{\"style\":\"light\"}}},\"xaxis\":{\"anchor\":\"y\",\"domain\":[0.0,1.0]},\"yaxis\":{\"anchor\":\"x\",\"domain\":[0.0,1.0]},\"margin\":{\"t\":60},\"showlegend\":false,\"annotations\":[{\"font\":{\"color\":\"black\",\"size\":16},\"showarrow\":false,\"text\":\"123\",\"x\":44,\"xshift\":16,\"y\":107,\"yshift\":16}]},                        {\"responsive\": true}                    ).then(function(){\n",
              "                            \n",
              "var gd = document.getElementById('4c89293c-e81f-477e-9378-5767ed27e1fc');\n",
              "var x = new MutationObserver(function (mutations, observer) {{\n",
              "        var display = window.getComputedStyle(gd).display;\n",
              "        if (!display || display === 'none') {{\n",
              "            console.log([gd, 'removed!']);\n",
              "            Plotly.purge(gd);\n",
              "            observer.disconnect();\n",
              "        }}\n",
              "}});\n",
              "\n",
              "// Listen for the removal of the full notebook cells\n",
              "var notebookContainer = gd.closest('#notebook-container');\n",
              "if (notebookContainer) {{\n",
              "    x.observe(notebookContainer, {childList: true});\n",
              "}}\n",
              "\n",
              "// Listen for the clearing of the current output cell\n",
              "var outputEl = gd.closest('.output');\n",
              "if (outputEl) {{\n",
              "    x.observe(outputEl, {childList: true});\n",
              "}}\n",
              "\n",
              "                        })                };                            </script>        </div>\n",
              "</body>\n",
              "</html>"
            ]
          },
          "metadata": {}
        }
      ]
    },
    {
      "cell_type": "markdown",
      "source": [
        "# Task 1: Create the Graph\n",
        "\n",
        "In the classic Pokemon games, you can only move up down left and right. Imagine, to simplify the problem a bit, that there are no restrictions regarding blocked paths or water (i.e. you can walk on any part on the map). Create a graph with edge weights corresponding to the shortest distance between two nodes when you can only move up/down/left/right."
      ],
      "metadata": {
        "id": "MSqz0_Q5wO9J"
      }
    },
    {
      "cell_type": "code",
      "source": [],
      "metadata": {
        "id": "anZyABeJDHjd"
      },
      "execution_count": null,
      "outputs": []
    },
    {
      "cell_type": "markdown",
      "source": [
        "# Task 2: Model and solve the problem\n",
        "\n",
        "You are planning a trip to visit all the cities in the Hoenn region.\n",
        "\n",
        "What graph problem corresponds to visiting all the cities and returning home in the fewest steps? After identifying the problem, look at the networkx documentation and call the appropriate function to solve the problem (approximately).\n",
        "\n",
        "Then, plot the resulting cycle and report the total distance traveled.\n",
        "\n",
        "The `edge_subgraph` function might be useful when plotting"
      ],
      "metadata": {
        "id": "fw7tpEi3xcAx"
      }
    },
    {
      "cell_type": "code",
      "source": [],
      "metadata": {
        "id": "w_yxGO85DIDy"
      },
      "execution_count": null,
      "outputs": []
    },
    {
      "cell_type": "markdown",
      "source": [
        "# Task 3: Fly\n",
        "\n",
        "In the Pokemon games, if you have a Pokemon who knows the move \"Fly\", you can revisit any city you have previously been to for FREE.\n",
        "\n",
        "Now assume you have a Pokemon who knows \"Fly\" at the start of your journey. Model the task of visiting all of the cities as a graph problem. Justify informally, why solving this graph problem on your chosen graph corresponds to finding the most efficient way to visit all the cities when you are allowed to fly back to any city you have already visited.\n",
        "\n",
        "Solve it using an appropriate function provided by Networkx.\n",
        "\n",
        "Plot the result, and calculate the total number of steps taken."
      ],
      "metadata": {
        "id": "_z8wR3ctx5Uh"
      }
    },
    {
      "cell_type": "code",
      "source": [],
      "metadata": {
        "id": "_O9EjtGKDIw9"
      },
      "execution_count": null,
      "outputs": []
    },
    {
      "cell_type": "markdown",
      "source": [
        "# Task 4: Walking in any direction\n",
        "\n",
        "More realistically, we can walk in any direction we want.\n",
        "\n",
        "Repeat tasks 1 and 2 without the restriction that you can only walk up/down/left/right"
      ],
      "metadata": {
        "id": "8BZorG-w21Fx"
      }
    },
    {
      "cell_type": "code",
      "source": [],
      "metadata": {
        "id": "1RtNAKPsDJKp"
      },
      "execution_count": null,
      "outputs": []
    },
    {
      "cell_type": "markdown",
      "source": [
        "# Task 5\n",
        "\n",
        "Take the problem of visiting every city when you have a Pokemon who knows \"Fly\". Is the optimal solution different when you can only move up/down/left/right versus when you can move in any direction?"
      ],
      "metadata": {
        "id": "VKS_8d-I3ZqE"
      }
    },
    {
      "cell_type": "code",
      "source": [],
      "metadata": {
        "id": "yeAXo4aNF8wu"
      },
      "execution_count": null,
      "outputs": []
    },
    {
      "cell_type": "markdown",
      "source": [
        "# (Optional)\n",
        "For fun, add 30 more sites to visit by running the next cell."
      ],
      "metadata": {
        "id": "uvXvT1lDF9MV"
      }
    },
    {
      "cell_type": "code",
      "source": [
        "for i in range(30):\n",
        "  LOCATIONS[f\"{i}\"] = tuple(np.random.randint(2, [256, 158]))\n",
        "\n",
        "CITIES = list(LOCATIONS.keys())\n",
        "XS, YS = list(zip(*list(LOCATIONS.values())))"
      ],
      "metadata": {
        "id": "m7TeSjC7C7P5"
      },
      "execution_count": null,
      "outputs": []
    }
  ]
}